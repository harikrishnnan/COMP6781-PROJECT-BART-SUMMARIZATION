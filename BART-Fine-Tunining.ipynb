{
 "cells": [
  {
   "cell_type": "markdown",
   "id": "59ff0d84-65a1-410c-9494-9704afdec5e7",
   "metadata": {},
   "source": [
    "# BART Fine-Tuning\n"
   ]
  },
  {
   "cell_type": "markdown",
   "id": "b763bc9d-b06f-4629-a00f-49fb26016b5f",
   "metadata": {},
   "source": [
    "## Get Data"
   ]
  },
  {
   "cell_type": "code",
   "execution_count": 1,
   "id": "52e82264-d5f0-4413-ab7b-3d3357e6b665",
   "metadata": {},
   "outputs": [],
   "source": [
    "import pickle"
   ]
  },
  {
   "cell_type": "code",
   "execution_count": 2,
   "id": "ae6d1e98-0eff-4e9d-840a-f616818ae0f8",
   "metadata": {},
   "outputs": [
    {
     "name": "stderr",
     "output_type": "stream",
     "text": [
      "/private/b/bergler/h_gurush/tmp/jupyter-envs/lib/python3.11/site-packages/tqdm/auto.py:21: TqdmWarning: IProgress not found. Please update jupyter and ipywidgets. See https://ipywidgets.readthedocs.io/en/stable/user_install.html\n",
      "  from .autonotebook import tqdm as notebook_tqdm\n"
     ]
    }
   ],
   "source": [
    "# ArXiv\n",
    "\n",
    "arxiv_input=pickle.load(open(\"articles_inputs.pickle\",\"rb\"))\n",
    "arxiv_target=pickle.load(open(\"articles_targets.pickle\",\"rb\"))\n",
    "\n",
    "pubmed_input=pickle.load(open(\"pubMed_inputs.pickle\",\"rb\"))\n",
    "pubmed_target=pickle.load(open(\"pubMed_targets.pickle\",\"rb\"))"
   ]
  },
  {
   "cell_type": "code",
   "execution_count": 3,
   "id": "7f827d85-a921-4c69-8df4-fe133f36ee35",
   "metadata": {},
   "outputs": [],
   "source": [
    "import torch\n",
    "device = torch.device(\n",
    "    \"cuda\"\n",
    "    if torch.cuda.is_available()\n",
    "    else \"mps\"\n",
    "    if torch.backends.mps.is_available()\n",
    "    else \"cpu\"\n",
    ")#CAUTION: RUN THIS C"
   ]
  },
  {
   "cell_type": "code",
   "execution_count": 4,
   "id": "db1f45df-613e-4c3b-ba7d-97af87135c06",
   "metadata": {},
   "outputs": [
    {
     "data": {
      "text/plain": [
       "device(type='cuda')"
      ]
     },
     "execution_count": 4,
     "metadata": {},
     "output_type": "execute_result"
    }
   ],
   "source": [
    "device"
   ]
  },
  {
   "cell_type": "code",
   "execution_count": 5,
   "id": "2bade395-0457-46e4-abe9-0389e2f5449b",
   "metadata": {},
   "outputs": [],
   "source": [
    "from datasets import load_dataset\n",
    "from transformers import AutoTokenizer\n",
    "from torch.utils.data import DataLoader\n",
    "import re\n",
    "import pandas as pd\n",
    "import numpy as np\n",
    "import torch\n",
    "import os\n",
    "import json\n",
    "from transformers import BartTokenizer, BartModel, BartForConditionalGeneration\n",
    "import math"
   ]
  },
  {
   "cell_type": "code",
   "execution_count": 6,
   "id": "b8774162-1a32-4458-be24-5ab3584dc1fa",
   "metadata": {},
   "outputs": [],
   "source": [
    "model = BartForConditionalGeneration.from_pretrained(\"facebook/bart-large-cnn\")"
   ]
  },
  {
   "cell_type": "code",
   "execution_count": 7,
   "id": "d6aa0e92-0fd9-4c0f-bff7-5744011bf7c9",
   "metadata": {},
   "outputs": [],
   "source": [
    "tokenizer = BartTokenizer.from_pretrained(\"facebook/bart-large-cnn\")"
   ]
  },
  {
   "cell_type": "code",
   "execution_count": 8,
   "id": "61aafee3-e005-431e-9c5d-0df4177d0007",
   "metadata": {},
   "outputs": [
    {
     "data": {
      "text/plain": [
       "torch.Size([202902, 1024])"
      ]
     },
     "execution_count": 8,
     "metadata": {},
     "output_type": "execute_result"
    }
   ],
   "source": [
    "arxiv_target[\"input_ids\"].shape"
   ]
  },
  {
   "cell_type": "code",
   "execution_count": 9,
   "id": "6edb6e5c-54c1-47bf-bbae-e54cf2b2246a",
   "metadata": {},
   "outputs": [
    {
     "name": "stderr",
     "output_type": "stream",
     "text": [
      "100%|██████████| 10000/10000 [02:08<00:00, 77.73it/s]\n",
      "100%|██████████| 5000/5000 [01:04<00:00, 77.31it/s]\n"
     ]
    }
   ],
   "source": [
    "texts=[]\n",
    "from tqdm import tqdm\n",
    "for i in tqdm(arxiv_target[\"input_ids\"][0:10000, ]):\n",
    "    text=tokenizer.decode(i,skip_special_tokens=True).replace(\"<S>\",\"\").replace(\"</S>\",\"\")\n",
    "    texts.append(text)\n",
    "for i in tqdm(pubmed_target[\"input_ids\"][0:5000, ]):\n",
    "    text=tokenizer.decode(i,skip_special_tokens=True).replace(\"<S>\",\"\").replace(\"</S>\",\"\")\n",
    "    texts.append(text)"
   ]
  },
  {
   "cell_type": "code",
   "execution_count": 10,
   "id": "80e23263-36fc-4949-9aaf-b15f35d5c3a7",
   "metadata": {},
   "outputs": [],
   "source": [
    "abstract_targerts=tokenizer(texts, max_length=1024, \n",
    "        truncation=True, \n",
    "        padding=\"max_length\", \n",
    "        return_tensors=\"pt\")"
   ]
  },
  {
   "cell_type": "code",
   "execution_count": 11,
   "id": "43982a63-1cae-440d-84fe-da93a22aab90",
   "metadata": {},
   "outputs": [],
   "source": [
    "arxiv_input[\"input_ids\"]=arxiv_input[\"input_ids\"].cpu()"
   ]
  },
  {
   "cell_type": "code",
   "execution_count": 12,
   "id": "72f71c8b-6832-44fa-bf66-78064eda7d0e",
   "metadata": {},
   "outputs": [],
   "source": [
    "arxiv_input[\"attention_mask\"]=arxiv_input[\"attention_mask\"].cpu()"
   ]
  },
  {
   "cell_type": "code",
   "execution_count": 13,
   "id": "0cc569ff-ead1-465b-9af8-78bb1962ee1c",
   "metadata": {},
   "outputs": [],
   "source": [
    "pubmed_input[\"input_ids\"]=pubmed_input[\"input_ids\"].cpu()\n",
    "pubmed_input[\"attention_mask\"]=pubmed_input[\"attention_mask\"].cpu()\n"
   ]
  },
  {
   "cell_type": "code",
   "execution_count": 14,
   "id": "03b3a9d7-83a1-47df-9f47-8a1b22c79f04",
   "metadata": {},
   "outputs": [],
   "source": [
    "from torch.utils.data import Dataset\n",
    "\n",
    "class SummarizationDataset(Dataset):\n",
    "    def __init__(self, inputs, targets):\n",
    "        self.inputs = inputs\n",
    "        self.targets = targets\n",
    "\n",
    "    def __len__(self):\n",
    "        return len(self.inputs[\"input_ids\"])\n",
    "\n",
    "    def __getitem__(self, idx):\n",
    "        return {\n",
    "            'input_ids': self.inputs[\"input_ids\"][idx],\n",
    "            'attention_mask': self.inputs[\"attention_mask\"][idx],\n",
    "            'labels': self.targets[\"input_ids\"][idx]\n",
    "        }"
   ]
  },
  {
   "cell_type": "code",
   "execution_count": 15,
   "id": "0f10703b-255b-4e81-8b16-59a7bdad594b",
   "metadata": {},
   "outputs": [],
   "source": [
    "inputs={\"input_ids\":None,\"attention_mask\":None}\n",
    "inputs[\"input_ids\"]=torch.cat([arxiv_input[\"input_ids\"],pubmed_input[\"input_ids\"]],dim=0)\n",
    "inputs[\"attention_mask\"]=torch.cat([arxiv_input[\"attention_mask\"],pubmed_input[\"attention_mask\"]],dim=0)"
   ]
  },
  {
   "cell_type": "code",
   "execution_count": 16,
   "id": "7f363f60-243d-4ed6-b279-855586caba47",
   "metadata": {},
   "outputs": [
    {
     "data": {
      "text/plain": [
       "torch.Size([15000, 1024])"
      ]
     },
     "execution_count": 16,
     "metadata": {},
     "output_type": "execute_result"
    }
   ],
   "source": [
    "inputs[\"input_ids\"].shape"
   ]
  },
  {
   "cell_type": "code",
   "execution_count": 17,
   "id": "08211d41-5ae2-4570-a03c-843b763df8d8",
   "metadata": {},
   "outputs": [],
   "source": [
    "dataset = SummarizationDataset(inputs, abstract_targerts)"
   ]
  },
  {
   "cell_type": "code",
   "execution_count": 18,
   "id": "689b04bd-47f8-4064-93ae-c55f00a23fb1",
   "metadata": {},
   "outputs": [],
   "source": [
    "for name, param in model.named_parameters():\n",
    "    if \"shared.weight\" in name or \"embed_positions.weight\" in name \\\n",
    "    or \"encoder.layers.\" in name or \"encoder.layernorm_embedding.\" in name \\\n",
    "    or \"decoder.embed_positions\" in name or any(f\"decoders.layers.{i}.\" in name for i in range(0,10)):\n",
    "        param.requires_grad=False"
   ]
  },
  {
   "cell_type": "code",
   "execution_count": 19,
   "id": "b2e6c4b7-1364-4714-93b7-043a43628a4d",
   "metadata": {},
   "outputs": [],
   "source": [
    "from torch.utils.data import DataLoader\n",
    "\n",
    "train_size = int(0.8 * len(dataset))\n",
    "val_size = len(dataset) - train_size\n",
    "train_dataset, val_dataset = torch.utils.data.random_split(dataset, [train_size, val_size])\n",
    "\n",
    "train_loader = DataLoader(train_dataset, batch_size=8, shuffle=True)\n",
    "val_loader = DataLoader(val_dataset, batch_size=8)"
   ]
  },
  {
   "cell_type": "code",
   "execution_count": 20,
   "id": "fcf0f663-6d5b-42a8-a91a-1ecbf10fd5eb",
   "metadata": {},
   "outputs": [],
   "source": [
    "del arxiv_target"
   ]
  },
  {
   "cell_type": "code",
   "execution_count": 21,
   "id": "e4ac1d03-badd-43fc-8e64-64cac8635a83",
   "metadata": {},
   "outputs": [
    {
     "name": "stderr",
     "output_type": "stream",
     "text": [
      "/private/b/bergler/h_gurush/tmp/jupyter-envs/lib/python3.11/site-packages/transformers/optimization.py:591: FutureWarning: This implementation of AdamW is deprecated and will be removed in a future version. Use the PyTorch implementation torch.optim.AdamW instead, or set `no_deprecation_warning=True` to disable this warning\n",
      "  warnings.warn(\n"
     ]
    }
   ],
   "source": [
    "from transformers import AdamW\n",
    "from torch.nn import functional as F\n",
    "import torch\n",
    "\n",
    "\n",
    "model = model.to(device)\n",
    "\n",
    "optimizer = AdamW(model.parameters(), lr=5e-5)\n",
    "\n",
    "# Training loop\n",
    "def train_epoch(model, data_loader, optimizer, device):\n",
    "    model.train()\n",
    "    total_loss = 0\n",
    "\n",
    "    for batch in tqdm(data_loader):\n",
    "        input_ids = batch[\"input_ids\"].to(device)\n",
    "        attention_mask = batch[\"attention_mask\"].to(device)\n",
    "        labels = batch[\"labels\"].to(device)\n",
    "\n",
    "        outputs = model(\n",
    "            input_ids=input_ids, \n",
    "            attention_mask=attention_mask, \n",
    "            labels=labels\n",
    "        )\n",
    "        loss = outputs.loss\n",
    "        total_loss += loss.item()\n",
    "\n",
    "        optimizer.zero_grad()\n",
    "        loss.backward()\n",
    "        optimizer.step()\n",
    "\n",
    "    return total_loss / len(data_loader)\n",
    "\n",
    "def evaluate_epoch(model, data_loader, device):\n",
    "    model.eval()\n",
    "    total_loss = 0\n",
    "\n",
    "    with torch.no_grad():\n",
    "        for batch in tqdm(data_loader):\n",
    "            input_ids = batch[\"input_ids\"].to(device)\n",
    "            attention_mask = batch[\"attention_mask\"].to(device)\n",
    "            labels = batch[\"labels\"].to(device)\n",
    "\n",
    "            outputs = model(\n",
    "                input_ids=input_ids, \n",
    "                attention_mask=attention_mask, \n",
    "                labels=labels\n",
    "            )\n",
    "            total_loss += outputs.loss.item()\n",
    "\n",
    "    return total_loss / len(data_loader)"
   ]
  },
  {
   "cell_type": "code",
   "execution_count": 22,
   "id": "5a2c5b49-e323-4ab1-84c1-8a336fb09e24",
   "metadata": {},
   "outputs": [],
   "source": [
    "import torch\n",
    "torch.cuda.empty_cache()"
   ]
  },
  {
   "cell_type": "code",
   "execution_count": 43,
   "id": "9ac0fa8a-29ac-428b-bf25-ebbb685611f1",
   "metadata": {},
   "outputs": [
    {
     "name": "stderr",
     "output_type": "stream",
     "text": [
      "100%|██████████| 1500/1500 [40:31<00:00,  1.62s/it]\n",
      "100%|██████████| 375/375 [04:32<00:00,  1.38it/s]\n"
     ]
    },
    {
     "name": "stdout",
     "output_type": "stream",
     "text": [
      "Epoch 1, Train Loss: 1.1911534604231517, Val Loss: 0.9314441401163737\n"
     ]
    },
    {
     "name": "stderr",
     "output_type": "stream",
     "text": [
      "100%|██████████| 1500/1500 [44:09<00:00,  1.77s/it]\n",
      "100%|██████████| 375/375 [04:32<00:00,  1.38it/s]\n"
     ]
    },
    {
     "name": "stdout",
     "output_type": "stream",
     "text": [
      "Epoch 2, Train Loss: 0.8501952592134475, Val Loss: 0.7798139524459838\n"
     ]
    },
    {
     "name": "stderr",
     "output_type": "stream",
     "text": [
      "100%|██████████| 1500/1500 [40:34<00:00,  1.62s/it]\n",
      "100%|██████████| 375/375 [04:32<00:00,  1.38it/s]\n"
     ]
    },
    {
     "name": "stdout",
     "output_type": "stream",
     "text": [
      "Epoch 3, Train Loss: 0.7106391162077585, Val Loss: 0.7159524720509847\n"
     ]
    },
    {
     "name": "stderr",
     "output_type": "stream",
     "text": [
      "100%|██████████| 1500/1500 [40:35<00:00,  1.62s/it]\n",
      "100%|██████████| 375/375 [04:32<00:00,  1.38it/s]\n"
     ]
    },
    {
     "name": "stdout",
     "output_type": "stream",
     "text": [
      "Epoch 4, Train Loss: 0.6270521755417188, Val Loss: 0.6812958683172862\n"
     ]
    },
    {
     "name": "stderr",
     "output_type": "stream",
     "text": [
      "100%|██████████| 1500/1500 [40:35<00:00,  1.62s/it]\n",
      "100%|██████████| 375/375 [04:32<00:00,  1.38it/s]\n"
     ]
    },
    {
     "name": "stdout",
     "output_type": "stream",
     "text": [
      "Epoch 5, Train Loss: 0.5642623227238656, Val Loss: 0.6651042557557424\n"
     ]
    },
    {
     "name": "stderr",
     "output_type": "stream",
     "text": [
      "100%|██████████| 1500/1500 [40:35<00:00,  1.62s/it]\n",
      "100%|██████████| 375/375 [04:32<00:00,  1.38it/s]\n"
     ]
    },
    {
     "name": "stdout",
     "output_type": "stream",
     "text": [
      "Epoch 6, Train Loss: 0.514181921839714, Val Loss: 0.6679914069970448\n"
     ]
    },
    {
     "name": "stderr",
     "output_type": "stream",
     "text": [
      "100%|██████████| 1500/1500 [40:35<00:00,  1.62s/it]\n",
      "100%|██████████| 375/375 [04:32<00:00,  1.38it/s]\n"
     ]
    },
    {
     "name": "stdout",
     "output_type": "stream",
     "text": [
      "Epoch 7, Train Loss: 0.4707191417316596, Val Loss: 0.6816804750760397\n"
     ]
    },
    {
     "name": "stderr",
     "output_type": "stream",
     "text": [
      "100%|██████████| 1500/1500 [40:35<00:00,  1.62s/it]\n",
      "100%|██████████| 375/375 [04:32<00:00,  1.38it/s]\n"
     ]
    },
    {
     "name": "stdout",
     "output_type": "stream",
     "text": [
      "Epoch 8, Train Loss: 0.43113634472091994, Val Loss: 0.6961883805592854\n"
     ]
    },
    {
     "name": "stderr",
     "output_type": "stream",
     "text": [
      "100%|██████████| 1500/1500 [40:35<00:00,  1.62s/it]\n",
      "100%|██████████| 375/375 [04:32<00:00,  1.38it/s]\n"
     ]
    },
    {
     "name": "stdout",
     "output_type": "stream",
     "text": [
      "Epoch 9, Train Loss: 0.39462132079402606, Val Loss: 0.722692139228185\n"
     ]
    },
    {
     "name": "stderr",
     "output_type": "stream",
     "text": [
      "100%|██████████| 1500/1500 [40:35<00:00,  1.62s/it]\n",
      "100%|██████████| 375/375 [04:32<00:00,  1.38it/s]\n"
     ]
    },
    {
     "name": "stdout",
     "output_type": "stream",
     "text": [
      "Epoch 10, Train Loss: 0.3601629015703996, Val Loss: 0.7502380991776785\n"
     ]
    }
   ],
   "source": [
    "EPOCHS = 10\n",
    "\n",
    "for epoch in range(EPOCHS):\n",
    "    train_loss = train_epoch(model, train_loader, optimizer, device)\n",
    "    val_loss = evaluate_epoch(model, val_loader, device)\n",
    "    if epoch==4:\n",
    "        torch.save(model.state_dict(), \"BART-E5-ALL.pth\")\n",
    "    print(f\"Epoch {epoch+1}, Train Loss: {train_loss}, Val Loss: {val_loss}\")\n",
    "\n",
    "torch.save(model.state_dict(), \"BART-E10-ALL.pth\")"
   ]
  },
  {
   "cell_type": "code",
   "execution_count": 23,
   "id": "7a96ea51-bd0f-41cb-ba0f-99f93337e790",
   "metadata": {},
   "outputs": [
    {
     "name": "stderr",
     "output_type": "stream",
     "text": [
      "100%|██████████| 1500/1500 [40:31<00:00,  1.62s/it]\n",
      "100%|██████████| 375/375 [04:32<00:00,  1.38it/s]\n"
     ]
    },
    {
     "name": "stdout",
     "output_type": "stream",
     "text": [
      "Epoch 1, Train Loss: 1.189143114288648, Val Loss: 0.9200942738850911\n"
     ]
    },
    {
     "name": "stderr",
     "output_type": "stream",
     "text": [
      "100%|██████████| 1500/1500 [40:34<00:00,  1.62s/it]\n",
      "100%|██████████| 375/375 [04:32<00:00,  1.38it/s]\n"
     ]
    },
    {
     "name": "stdout",
     "output_type": "stream",
     "text": [
      "Epoch 2, Train Loss: 0.8486903121272723, Val Loss: 0.7762309277852376\n"
     ]
    },
    {
     "name": "stderr",
     "output_type": "stream",
     "text": [
      "100%|██████████| 1500/1500 [40:35<00:00,  1.62s/it]\n",
      "100%|██████████| 375/375 [04:32<00:00,  1.38it/s]\n"
     ]
    },
    {
     "name": "stdout",
     "output_type": "stream",
     "text": [
      "Epoch 3, Train Loss: 0.7126234473983447, Val Loss: 0.7050663736661276\n"
     ]
    },
    {
     "name": "stderr",
     "output_type": "stream",
     "text": [
      "100%|██████████| 1500/1500 [40:35<00:00,  1.62s/it]\n",
      "100%|██████████| 375/375 [04:32<00:00,  1.38it/s]\n"
     ]
    },
    {
     "name": "stdout",
     "output_type": "stream",
     "text": [
      "Epoch 4, Train Loss: 0.625435917754968, Val Loss: 0.6725757858753204\n"
     ]
    },
    {
     "name": "stderr",
     "output_type": "stream",
     "text": [
      "100%|██████████| 1500/1500 [40:36<00:00,  1.62s/it]\n",
      "100%|██████████| 375/375 [04:32<00:00,  1.38it/s]\n"
     ]
    },
    {
     "name": "stdout",
     "output_type": "stream",
     "text": [
      "Epoch 5, Train Loss: 0.5634584678212802, Val Loss: 0.6621964476903279\n"
     ]
    }
   ],
   "source": [
    "EPOCHS = 5\n",
    "\n",
    "for epoch in range(EPOCHS):\n",
    "    train_loss = train_epoch(model, train_loader, optimizer, device)\n",
    "    val_loss = evaluate_epoch(model, val_loader, device)\n",
    "    \n",
    "    print(f\"Epoch {epoch+1}, Train Loss: {train_loss}, Val Loss: {val_loss}\")\n",
    "\n",
    "torch.save(model.state_dict(), \"BART-E5-ALL.pth\")"
   ]
  },
  {
   "cell_type": "code",
   "execution_count": 21,
   "id": "4b4b08fd-ad9a-47c4-85f4-7fb095e9e76f",
   "metadata": {},
   "outputs": [],
   "source": [
    "#torch.save(model.state_dict(), \"BART-E3-P.pth\")"
   ]
  }
 ],
 "metadata": {
  "kernelspec": {
   "display_name": "Python 3 (ipykernel)",
   "language": "python",
   "name": "python3"
  },
  "language_info": {
   "codemirror_mode": {
    "name": "ipython",
    "version": 3
   },
   "file_extension": ".py",
   "mimetype": "text/x-python",
   "name": "python",
   "nbconvert_exporter": "python",
   "pygments_lexer": "ipython3",
   "version": "3.11.5"
  }
 },
 "nbformat": 4,
 "nbformat_minor": 5
}
